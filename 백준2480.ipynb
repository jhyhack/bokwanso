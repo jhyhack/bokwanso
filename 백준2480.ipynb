{
  "nbformat": 4,
  "nbformat_minor": 0,
  "metadata": {
    "colab": {
      "provenance": [],
      "authorship_tag": "ABX9TyPeL2jJxxieFBuPU+QZMHYm",
      "include_colab_link": true
    },
    "kernelspec": {
      "name": "python3",
      "display_name": "Python 3"
    },
    "language_info": {
      "name": "python"
    }
  },
  "cells": [
    {
      "cell_type": "markdown",
      "metadata": {
        "id": "view-in-github",
        "colab_type": "text"
      },
      "source": [
        "<a href=\"https://colab.research.google.com/github/jhyhack/bokwanso/blob/main/%EB%B0%B1%EC%A4%802480.ipynb\" target=\"_parent\"><img src=\"https://colab.research.google.com/assets/colab-badge.svg\" alt=\"Open In Colab\"/></a>"
      ]
    },
    {
      "cell_type": "code",
      "execution_count": 2,
      "metadata": {
        "colab": {
          "base_uri": "https://localhost:8080/"
        },
        "id": "oeUvbLFDYSrt",
        "outputId": "5d9226b0-8380-4c16-a34b-3fc234aa2444"
      },
      "outputs": [
        {
          "output_type": "stream",
          "name": "stdout",
          "text": [
            "3 3 6\n",
            "1300\n"
          ]
        }
      ],
      "source": [
        "a,b,c=map(int,input().split())\n",
        "if a==b==c:\n",
        "  print(10000+a*1000)\n",
        "elif a==b or b==c:\n",
        "  print(1000+b*100)\n",
        "elif a==c:\n",
        "  print(1000+a*100)\n",
        "else:\n",
        "  print(max(a,b,c)*100)"
      ]
    },
    {
      "cell_type": "code",
      "source": [
        "a,b,c=map(int,input().split())\n",
        "if a==b==c:\n",
        "  print(10000+a*1000)\n",
        "elif a==b or b==c:\n",
        "  print(1000+b*100)\n",
        "elif a==c:\n",
        "  print(1000+a*100)\n",
        "else:\n",
        "  print(max(a,b,c)*100)"
      ],
      "metadata": {
        "colab": {
          "base_uri": "https://localhost:8080/"
        },
        "id": "XtwFeVHlZ4ju",
        "outputId": "78beaa2b-a4b9-4b13-e8bc-fb5234554f54"
      },
      "execution_count": 3,
      "outputs": [
        {
          "output_type": "stream",
          "name": "stdout",
          "text": [
            "2 2 2\n",
            "12000\n"
          ]
        }
      ]
    },
    {
      "cell_type": "code",
      "source": [
        "a,b,c=map(int,input().split())\n",
        "if a==b==c:\n",
        "  print(10000+a*1000)\n",
        "elif a==b or b==c:\n",
        "  print(1000+b*100)\n",
        "elif a==c:\n",
        "  print(1000+a*100)\n",
        "else:\n",
        "  print(max(a,b,c)*100)"
      ],
      "metadata": {
        "colab": {
          "base_uri": "https://localhost:8080/"
        },
        "id": "x95kAso2Z8JL",
        "outputId": "e824633f-73d2-4424-da39-d2f84312bb08"
      },
      "execution_count": 4,
      "outputs": [
        {
          "output_type": "stream",
          "name": "stdout",
          "text": [
            "6 2 5\n",
            "600\n"
          ]
        }
      ]
    }
  ]
}