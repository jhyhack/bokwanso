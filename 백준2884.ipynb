{
  "nbformat": 4,
  "nbformat_minor": 0,
  "metadata": {
    "colab": {
      "provenance": [],
      "authorship_tag": "ABX9TyNBw868VawH8VRQK50R7D3a",
      "include_colab_link": true
    },
    "kernelspec": {
      "name": "python3",
      "display_name": "Python 3"
    },
    "language_info": {
      "name": "python"
    }
  },
  "cells": [
    {
      "cell_type": "markdown",
      "metadata": {
        "id": "view-in-github",
        "colab_type": "text"
      },
      "source": [
        "<a href=\"https://colab.research.google.com/github/jhyhack/bokwanso/blob/main/%EB%B0%B1%EC%A4%802884.ipynb\" target=\"_parent\"><img src=\"https://colab.research.google.com/assets/colab-badge.svg\" alt=\"Open In Colab\"/></a>"
      ]
    },
    {
      "cell_type": "code",
      "execution_count": 3,
      "metadata": {
        "colab": {
          "base_uri": "https://localhost:8080/"
        },
        "id": "wHROP59ePpgH",
        "outputId": "44910434-bda9-4f94-8425-6b313ede0a22"
      },
      "outputs": [
        {
          "output_type": "stream",
          "name": "stdout",
          "text": [
            "10 10\n",
            "9 25\n"
          ]
        }
      ],
      "source": [
        "H, M = map(int, input().split())\n",
        "\n",
        "if M < 45 :\n",
        "    if H == 0 :\n",
        "        H = 23\n",
        "        M += 60\n",
        "    else :\n",
        "        H -= 1\t\n",
        "        M += 60\n",
        "        \n",
        "print(H, M-45)\t"
      ]
    },
    {
      "cell_type": "code",
      "source": [
        "H, M = map(int, input().split())\n",
        "\n",
        "if M < 45 :\n",
        "    if H == 0 :\n",
        "        H = 23\n",
        "        M += 60\n",
        "    else :\n",
        "        H -= 1\t\n",
        "        M += 60\n",
        "        \n",
        "print(H, M-45)\t"
      ],
      "metadata": {
        "colab": {
          "base_uri": "https://localhost:8080/"
        },
        "id": "US46EnS0RWSK",
        "outputId": "5a6e0743-a705-4e81-9f03-51506d2cedf3"
      },
      "execution_count": 4,
      "outputs": [
        {
          "output_type": "stream",
          "name": "stdout",
          "text": [
            "0 30\n",
            "23 45\n"
          ]
        }
      ]
    },
    {
      "cell_type": "code",
      "source": [
        "H, M = map(int, input().split())\n",
        "\n",
        "if M < 45 :\n",
        "    if H == 0 :\n",
        "        H = 23\n",
        "        M += 60\n",
        "    else :\n",
        "        H -= 1\t\n",
        "        M += 60\n",
        "        \n",
        "print(H, M-45)\t"
      ],
      "metadata": {
        "colab": {
          "base_uri": "https://localhost:8080/"
        },
        "id": "S13aKWpTRbwh",
        "outputId": "e8da0411-4c30-47ff-ea9d-28e581eed76a"
      },
      "execution_count": 5,
      "outputs": [
        {
          "output_type": "stream",
          "name": "stdout",
          "text": [
            "23 40\n",
            "22 55\n"
          ]
        }
      ]
    }
  ]
}