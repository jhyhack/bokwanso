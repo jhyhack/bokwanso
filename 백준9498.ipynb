{
  "nbformat": 4,
  "nbformat_minor": 0,
  "metadata": {
    "colab": {
      "provenance": [],
      "authorship_tag": "ABX9TyONWQOtIzvjOrurLfWdnsC0",
      "include_colab_link": true
    },
    "kernelspec": {
      "name": "python3",
      "display_name": "Python 3"
    },
    "language_info": {
      "name": "python"
    }
  },
  "cells": [
    {
      "cell_type": "markdown",
      "metadata": {
        "id": "view-in-github",
        "colab_type": "text"
      },
      "source": [
        "<a href=\"https://colab.research.google.com/github/jhyhack/bokwanso/blob/main/%EB%B0%B1%EC%A4%809498.ipynb\" target=\"_parent\"><img src=\"https://colab.research.google.com/assets/colab-badge.svg\" alt=\"Open In Colab\"/></a>"
      ]
    },
    {
      "cell_type": "code",
      "execution_count": 3,
      "metadata": {
        "id": "lVufycy8fYmF",
        "colab": {
          "base_uri": "https://localhost:8080/"
        },
        "outputId": "e66f8f81-f77b-4c92-d9f7-5aa12901d143"
      },
      "outputs": [
        {
          "output_type": "stream",
          "name": "stdout",
          "text": [
            "100\n",
            "A\n"
          ]
        }
      ],
      "source": [
        "score=int(input())\n",
        "if score>=90 or score==100:\n",
        "  print(\"A\")\n",
        "elif score>=80 and score<90:\n",
        "  print(\"B\")\n",
        "elif score>=70 and score<80:\n",
        "  print(\"C\")\n",
        "elif score>=60 and score<70:\n",
        "  print(\"D\")\n",
        "else:\n",
        "  print(\"F\")"
      ]
    }
  ]
}