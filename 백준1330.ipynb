{
  "nbformat": 4,
  "nbformat_minor": 0,
  "metadata": {
    "colab": {
      "provenance": [],
      "collapsed_sections": [],
      "authorship_tag": "ABX9TyMbm+vrRV2iHcgEDNkISrlL",
      "include_colab_link": true
    },
    "kernelspec": {
      "name": "python3",
      "display_name": "Python 3"
    },
    "language_info": {
      "name": "python"
    }
  },
  "cells": [
    {
      "cell_type": "markdown",
      "metadata": {
        "id": "view-in-github",
        "colab_type": "text"
      },
      "source": [
        "<a href=\"https://colab.research.google.com/github/jhyhack/bokwanso/blob/main/%EB%B0%B1%EC%A4%801330.ipynb\" target=\"_parent\"><img src=\"https://colab.research.google.com/assets/colab-badge.svg\" alt=\"Open In Colab\"/></a>"
      ]
    },
    {
      "cell_type": "code",
      "execution_count": 1,
      "metadata": {
        "colab": {
          "base_uri": "https://localhost:8080/"
        },
        "id": "y_dRtBfMeOpp",
        "outputId": "d5addae5-bde5-46fa-e4ce-8b12bc1597cb"
      },
      "outputs": [
        {
          "output_type": "stream",
          "name": "stdout",
          "text": [
            "1 2\n",
            "<\n"
          ]
        }
      ],
      "source": [
        "a,b=map(int,input().split())\n",
        "if(a<b):\n",
        "  print(\"<\")\n",
        "elif(a>b):\n",
        "  print(\">\")\n",
        "else:\n",
        "  print(\"==\")"
      ]
    },
    {
      "cell_type": "code",
      "source": [
        "a,b=map(int,input().split())\n",
        "if(a<b):\n",
        "  print(\"<\")\n",
        "elif(a>b):\n",
        "  print(\">\")\n",
        "else:\n",
        "  print(\"==\")"
      ],
      "metadata": {
        "colab": {
          "base_uri": "https://localhost:8080/"
        },
        "id": "IetV7EYEetEW",
        "outputId": "12cf89f7-f78f-41ff-b4aa-340420a883ea"
      },
      "execution_count": 2,
      "outputs": [
        {
          "output_type": "stream",
          "name": "stdout",
          "text": [
            "10 2\n",
            ">\n"
          ]
        }
      ]
    },
    {
      "cell_type": "code",
      "source": [
        "a,b=map(int,input().split())\n",
        "if(a<b):\n",
        "  print(\"<\")\n",
        "elif(a>b):\n",
        "  print(\">\")\n",
        "else:\n",
        "  print(\"==\")"
      ],
      "metadata": {
        "colab": {
          "base_uri": "https://localhost:8080/"
        },
        "id": "-BRz8CQ8euVA",
        "outputId": "15af3115-6a77-47ca-bf39-782359ff3f26"
      },
      "execution_count": 3,
      "outputs": [
        {
          "output_type": "stream",
          "name": "stdout",
          "text": [
            "5 5\n",
            "==\n"
          ]
        }
      ]
    }
  ]
}