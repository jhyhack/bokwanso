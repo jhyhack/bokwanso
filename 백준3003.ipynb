{
  "nbformat": 4,
  "nbformat_minor": 0,
  "metadata": {
    "colab": {
      "provenance": [],
      "collapsed_sections": [],
      "authorship_tag": "ABX9TyOKLWbDbpQ/JTmHwPVAfyep",
      "include_colab_link": true
    },
    "kernelspec": {
      "name": "python3",
      "display_name": "Python 3"
    },
    "language_info": {
      "name": "python"
    }
  },
  "cells": [
    {
      "cell_type": "markdown",
      "metadata": {
        "id": "view-in-github",
        "colab_type": "text"
      },
      "source": [
        "<a href=\"https://colab.research.google.com/github/jhyhack/bokwanso/blob/main/%EB%B0%B1%EC%A4%803003.ipynb\" target=\"_parent\"><img src=\"https://colab.research.google.com/assets/colab-badge.svg\" alt=\"Open In Colab\"/></a>"
      ]
    },
    {
      "cell_type": "code",
      "execution_count": 1,
      "metadata": {
        "colab": {
          "base_uri": "https://localhost:8080/"
        },
        "id": "q8VpFM-McSWd",
        "outputId": "e99028ec-48ac-4749-fdc1-74572b6ca927"
      },
      "outputs": [
        {
          "output_type": "stream",
          "name": "stdout",
          "text": [
            "0 1 2 2 2 7\n",
            "1 0 0 0 0 1 "
          ]
        }
      ],
      "source": [
        "bc=[1, 1, 2, 2, 2, 8]\n",
        "wc=list(map(int, input().split()))\n",
        "for i in range(6):\n",
        "    print(bc[i]-wc[i], end=' ')"
      ]
    },
    {
      "cell_type": "code",
      "source": [
        "bc=[1, 1, 2, 2, 2, 8]\n",
        "wc=list(map(int, input().split()))\n",
        "for i in range(6):\n",
        "    print(bc[i]-wc[i], end=' ')"
      ],
      "metadata": {
        "colab": {
          "base_uri": "https://localhost:8080/"
        },
        "id": "2ehPT-dYc8dB",
        "outputId": "91581838-1343-4862-bf25-13d7d3cac0e9"
      },
      "execution_count": 2,
      "outputs": [
        {
          "output_type": "stream",
          "name": "stdout",
          "text": [
            "2 1 2 1 2 1\n",
            "-1 0 0 1 0 7 "
          ]
        }
      ]
    }
  ]
}