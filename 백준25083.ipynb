{
  "nbformat": 4,
  "nbformat_minor": 0,
  "metadata": {
    "colab": {
      "provenance": [],
      "collapsed_sections": [],
      "authorship_tag": "ABX9TyPoDhPGkrr5NC3B8mpGMwEf",
      "include_colab_link": true
    },
    "kernelspec": {
      "name": "python3",
      "display_name": "Python 3"
    },
    "language_info": {
      "name": "python"
    }
  },
  "cells": [
    {
      "cell_type": "markdown",
      "metadata": {
        "id": "view-in-github",
        "colab_type": "text"
      },
      "source": [
        "<a href=\"https://colab.research.google.com/github/jhyhack/bokwanso/blob/main/%EB%B0%B1%EC%A4%8025083.ipynb\" target=\"_parent\"><img src=\"https://colab.research.google.com/assets/colab-badge.svg\" alt=\"Open In Colab\"/></a>"
      ]
    },
    {
      "cell_type": "code",
      "execution_count": 5,
      "metadata": {
        "colab": {
          "base_uri": "https://localhost:8080/"
        },
        "id": "jfIWos92ZqJB",
        "outputId": "dac0d5c9-bfbe-4c8e-f2b4-ea085675365f"
      },
      "outputs": [
        {
          "output_type": "stream",
          "name": "stdout",
          "text": [
            "         ,r'\"7\n",
            "r`-_   ,'  ,/\n",
            " \\. \". L_r'\n",
            "   `~\\/\n",
            "      |\n",
            "      |\n"
          ]
        }
      ],
      "source": [
        "'''\n",
        "         ,r'\"7\n",
        "r`-_   ,'  ,/\n",
        " \\. \". L_r'\n",
        "   `~\\/\n",
        "      |\n",
        "      |\n",
        "'''\n",
        "\n",
        "print(\"         ,r'\\\"7\")\n",
        "print(\"r`-_   ,'  ,/\")\n",
        "print(\" \\. \\\". L_r'\")\n",
        "print(\"   `~\\/\")\n",
        "print(\"      |\")\n",
        "print(\"      |\")"
      ]
    }
  ]
}