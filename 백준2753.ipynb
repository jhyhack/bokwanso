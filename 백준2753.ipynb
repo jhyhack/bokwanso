{
  "nbformat": 4,
  "nbformat_minor": 0,
  "metadata": {
    "colab": {
      "provenance": [],
      "authorship_tag": "ABX9TyNAk8955xE4Pg2qt7VRxvBb",
      "include_colab_link": true
    },
    "kernelspec": {
      "name": "python3",
      "display_name": "Python 3"
    },
    "language_info": {
      "name": "python"
    }
  },
  "cells": [
    {
      "cell_type": "markdown",
      "metadata": {
        "id": "view-in-github",
        "colab_type": "text"
      },
      "source": [
        "<a href=\"https://colab.research.google.com/github/jhyhack/bokwanso/blob/main/%EB%B0%B1%EC%A4%802753.ipynb\" target=\"_parent\"><img src=\"https://colab.research.google.com/assets/colab-badge.svg\" alt=\"Open In Colab\"/></a>"
      ]
    },
    {
      "cell_type": "code",
      "execution_count": 5,
      "metadata": {
        "colab": {
          "base_uri": "https://localhost:8080/"
        },
        "id": "UL0qRQ5OKJj8",
        "outputId": "9156fce1-20dc-48b2-85ef-548c1bbe7f76"
      },
      "outputs": [
        {
          "output_type": "stream",
          "name": "stdout",
          "text": [
            "2000\n",
            "1\n"
          ]
        }
      ],
      "source": [
        "year=int(input())\n",
        "if ((year%4==0) and (year%100!=0)) or (year%400==0):\n",
        "  print('1')\n",
        "else:\n",
        "  print('0')"
      ]
    },
    {
      "cell_type": "code",
      "source": [
        "year=int(input())\n",
        "if ((year%4==0) and (year%100!=0)) or (year%400==0):\n",
        "  print('1')\n",
        "else:\n",
        "  print('0')"
      ],
      "metadata": {
        "colab": {
          "base_uri": "https://localhost:8080/"
        },
        "id": "DZMEsX7VNPUS",
        "outputId": "4d1cfa13-b5e3-47be-a4cd-282a294f4411"
      },
      "execution_count": 6,
      "outputs": [
        {
          "output_type": "stream",
          "name": "stdout",
          "text": [
            "1999\n",
            "0\n"
          ]
        }
      ]
    }
  ]
}