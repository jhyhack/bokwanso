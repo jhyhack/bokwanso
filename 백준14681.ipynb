{
  "nbformat": 4,
  "nbformat_minor": 0,
  "metadata": {
    "colab": {
      "provenance": [],
      "authorship_tag": "ABX9TyNnizVIZtvH/BLYRcxg79+C",
      "include_colab_link": true
    },
    "kernelspec": {
      "name": "python3",
      "display_name": "Python 3"
    },
    "language_info": {
      "name": "python"
    }
  },
  "cells": [
    {
      "cell_type": "markdown",
      "metadata": {
        "id": "view-in-github",
        "colab_type": "text"
      },
      "source": [
        "<a href=\"https://colab.research.google.com/github/jhyhack/bokwanso/blob/main/%EB%B0%B1%EC%A4%8014681.ipynb\" target=\"_parent\"><img src=\"https://colab.research.google.com/assets/colab-badge.svg\" alt=\"Open In Colab\"/></a>"
      ]
    },
    {
      "cell_type": "code",
      "execution_count": 1,
      "metadata": {
        "colab": {
          "base_uri": "https://localhost:8080/"
        },
        "id": "I8eXO6F5OHnm",
        "outputId": "bf8c5708-1074-4b35-e40e-15b7726ab278"
      },
      "outputs": [
        {
          "output_type": "stream",
          "name": "stdout",
          "text": [
            "12\n",
            "5\n",
            "1\n"
          ]
        }
      ],
      "source": [
        "x=int(input())\n",
        "y=int(input())\n",
        "\n",
        "if x>0 and y>0:\n",
        "  print(\"1\")\n",
        "elif x<0 and y>0:\n",
        "  print(\"2\")\n",
        "elif x<0 and y<0:\n",
        "  print(\"3\")\n",
        "elif x>0 and y<0:\n",
        "  print(\"4\")"
      ]
    },
    {
      "cell_type": "code",
      "source": [
        "x=int(input())\n",
        "y=int(input())\n",
        "\n",
        "if x>0 and y>0:\n",
        "  print(\"1\")\n",
        "elif x<0 and y>0:\n",
        "  print(\"2\")\n",
        "elif x<0 and y<0:\n",
        "  print(\"3\")\n",
        "elif x>0 and y<0:\n",
        "  print(\"4\")"
      ],
      "metadata": {
        "colab": {
          "base_uri": "https://localhost:8080/"
        },
        "id": "wYLkFuUAO-MS",
        "outputId": "1ee5b3f5-2897-419e-a758-b33f446eafca"
      },
      "execution_count": 2,
      "outputs": [
        {
          "output_type": "stream",
          "name": "stdout",
          "text": [
            "9\n",
            "-13\n",
            "4\n"
          ]
        }
      ]
    }
  ]
}